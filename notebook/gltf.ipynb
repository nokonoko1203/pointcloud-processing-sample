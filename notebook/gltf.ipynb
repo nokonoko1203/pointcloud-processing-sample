{
 "cells": [
  {
   "cell_type": "code",
   "execution_count": 1,
   "id": "33233c9d",
   "metadata": {},
   "outputs": [],
   "source": [
    "import json\n",
    "import pdal\n",
    "import open3d as o3d"
   ]
  },
  {
   "cell_type": "code",
   "execution_count": 2,
   "id": "c5d79134",
   "metadata": {},
   "outputs": [],
   "source": [
    "pointcloud_path = \"./data/input/09LD1895.las\"\n",
    "ply_path = \"./data/output/09LD1895_mesh_terrain.ply\"\n",
    "glb_path = \"./data/output/09LD1895_mesh_terrain.glb\""
   ]
  },
  {
   "cell_type": "code",
   "execution_count": null,
   "id": "c4808a4b",
   "metadata": {},
   "outputs": [],
   "source": [
    "mesh_pipeline = {\n",
    "    \"pipeline\": [\n",
    "        {\n",
    "            \"type\": \"readers.las\",\n",
    "            \"filename\": pointcloud_path\n",
    "        },\n",
    "        {\n",
    "            \"type\": \"filters.smrf\",\n",
    "            \"window\": 50,\n",
    "            \"slope\": 0.2,\n",
    "            \"threshold\": 0.45,\n",
    "            \"cell\": 1\n",
    "        },\n",
    "        {\n",
    "            \"type\": \"filters.range\",\n",
    "            \"limits\": \"Classification[2:2]\"\n",
    "        },\n",
    "        {\n",
    "\n",
    "            \"type\": \"filters.poisson\",\n",
    "            \"depth\": 8,\n",
    "        },\n",
    "        {\n",
    "            \"type\": \"writers.ply\",\n",
    "            \"filename\": ply_path,\n",
    "            \"faces\": True\n",
    "        }\n",
    "    ]\n",
    "}"
   ]
  },
  {
   "cell_type": "code",
   "execution_count": 4,
   "id": "c0d19b7d",
   "metadata": {},
   "outputs": [
    {
     "data": {
      "text/plain": [
       "44822"
      ]
     },
     "execution_count": 4,
     "metadata": {},
     "output_type": "execute_result"
    }
   ],
   "source": [
    "pipeline_obj = pdal.Pipeline(json.dumps(mesh_pipeline))\n",
    "pipeline_obj.execute()"
   ]
  },
  {
   "cell_type": "code",
   "execution_count": null,
   "id": "ec217fb4",
   "metadata": {},
   "outputs": [],
   "source": [
    "mesh_terrain = o3d.io.read_triangle_mesh(ply_path)"
   ]
  },
  {
   "cell_type": "code",
   "execution_count": null,
   "id": "2e0e2cf3",
   "metadata": {},
   "outputs": [
    {
     "name": "stdout",
     "output_type": "stream",
     "text": [
      "Exported ./data/output/09LD1895_mesh_terrain.glb\n"
     ]
    }
   ],
   "source": [
    "o3d.io.write_triangle_mesh(glb_path, mesh_terrain)"
   ]
  }
 ],
 "metadata": {
  "kernelspec": {
   "display_name": ".venv",
   "language": "python",
   "name": "python3"
  },
  "language_info": {
   "codemirror_mode": {
    "name": "ipython",
    "version": 3
   },
   "file_extension": ".py",
   "mimetype": "text/x-python",
   "name": "python",
   "nbconvert_exporter": "python",
   "pygments_lexer": "ipython3",
   "version": "3.12.7"
  }
 },
 "nbformat": 4,
 "nbformat_minor": 5
}
